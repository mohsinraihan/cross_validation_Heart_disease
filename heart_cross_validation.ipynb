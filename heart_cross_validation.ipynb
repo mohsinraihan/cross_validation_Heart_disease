{
  "nbformat": 4,
  "nbformat_minor": 0,
  "metadata": {
    "colab": {
      "name": "heart_cross_validation.ipynb",
      "provenance": []
    },
    "kernelspec": {
      "name": "python3",
      "display_name": "Python 3"
    },
    "language_info": {
      "name": "python"
    }
  },
  "cells": [
    {
      "cell_type": "markdown",
      "metadata": {
        "id": "kVT-PF5DSOqG"
      },
      "source": [
        "# Import Library"
      ]
    },
    {
      "cell_type": "code",
      "metadata": {
        "id": "i_Mv_w4LSURO"
      },
      "source": [
        "import numpy as np\n",
        "import matplotlib.pyplot as plt\n",
        "import pandas as pd\n",
        "import random\n",
        "from sklearn import metrics"
      ],
      "execution_count": 4,
      "outputs": []
    },
    {
      "cell_type": "code",
      "metadata": {
        "colab": {
          "base_uri": "https://localhost:8080/"
        },
        "id": "YCx5IjjSSWod",
        "outputId": "78815554-591b-4b00-ca41-b226452eda51"
      },
      "source": [
        "from google.colab import drive\n",
        "drive.mount('/content/drive')"
      ],
      "execution_count": 5,
      "outputs": [
        {
          "output_type": "stream",
          "text": [
            "Mounted at /content/drive\n"
          ],
          "name": "stdout"
        }
      ]
    },
    {
      "cell_type": "code",
      "metadata": {
        "id": "hU6fEzutSZuc"
      },
      "source": [
        "import warnings\n",
        "warnings.filterwarnings('ignore')"
      ],
      "execution_count": 6,
      "outputs": []
    },
    {
      "cell_type": "markdown",
      "metadata": {
        "id": "rdP4njt8Sh-L"
      },
      "source": [
        "# Read The Data"
      ]
    },
    {
      "cell_type": "code",
      "metadata": {
        "colab": {
          "base_uri": "https://localhost:8080/",
          "height": 204
        },
        "id": "TxnZHUkqSlkB",
        "outputId": "2832ddbb-76d9-4f3d-f859-c1ff8e15124c"
      },
      "source": [
        "dataset=pd.read_csv('/content/drive/MyDrive/workshop/part 1/heart.csv')\n",
        "dataset.head(5)"
      ],
      "execution_count": 7,
      "outputs": [
        {
          "output_type": "execute_result",
          "data": {
            "text/html": [
              "<div>\n",
              "<style scoped>\n",
              "    .dataframe tbody tr th:only-of-type {\n",
              "        vertical-align: middle;\n",
              "    }\n",
              "\n",
              "    .dataframe tbody tr th {\n",
              "        vertical-align: top;\n",
              "    }\n",
              "\n",
              "    .dataframe thead th {\n",
              "        text-align: right;\n",
              "    }\n",
              "</style>\n",
              "<table border=\"1\" class=\"dataframe\">\n",
              "  <thead>\n",
              "    <tr style=\"text-align: right;\">\n",
              "      <th></th>\n",
              "      <th>age</th>\n",
              "      <th>sex</th>\n",
              "      <th>cp</th>\n",
              "      <th>trestbps</th>\n",
              "      <th>chol</th>\n",
              "      <th>fbs</th>\n",
              "      <th>restecg</th>\n",
              "      <th>thalach</th>\n",
              "      <th>exang</th>\n",
              "      <th>oldpeak</th>\n",
              "      <th>slope</th>\n",
              "      <th>ca</th>\n",
              "      <th>thal</th>\n",
              "      <th>target</th>\n",
              "    </tr>\n",
              "  </thead>\n",
              "  <tbody>\n",
              "    <tr>\n",
              "      <th>0</th>\n",
              "      <td>63</td>\n",
              "      <td>1</td>\n",
              "      <td>3</td>\n",
              "      <td>145</td>\n",
              "      <td>233</td>\n",
              "      <td>1</td>\n",
              "      <td>0</td>\n",
              "      <td>150</td>\n",
              "      <td>0</td>\n",
              "      <td>2.3</td>\n",
              "      <td>0</td>\n",
              "      <td>0</td>\n",
              "      <td>1</td>\n",
              "      <td>1</td>\n",
              "    </tr>\n",
              "    <tr>\n",
              "      <th>1</th>\n",
              "      <td>37</td>\n",
              "      <td>1</td>\n",
              "      <td>2</td>\n",
              "      <td>130</td>\n",
              "      <td>250</td>\n",
              "      <td>0</td>\n",
              "      <td>1</td>\n",
              "      <td>187</td>\n",
              "      <td>0</td>\n",
              "      <td>3.5</td>\n",
              "      <td>0</td>\n",
              "      <td>0</td>\n",
              "      <td>2</td>\n",
              "      <td>1</td>\n",
              "    </tr>\n",
              "    <tr>\n",
              "      <th>2</th>\n",
              "      <td>41</td>\n",
              "      <td>0</td>\n",
              "      <td>1</td>\n",
              "      <td>130</td>\n",
              "      <td>204</td>\n",
              "      <td>0</td>\n",
              "      <td>0</td>\n",
              "      <td>172</td>\n",
              "      <td>0</td>\n",
              "      <td>1.4</td>\n",
              "      <td>2</td>\n",
              "      <td>0</td>\n",
              "      <td>2</td>\n",
              "      <td>1</td>\n",
              "    </tr>\n",
              "    <tr>\n",
              "      <th>3</th>\n",
              "      <td>56</td>\n",
              "      <td>1</td>\n",
              "      <td>1</td>\n",
              "      <td>120</td>\n",
              "      <td>236</td>\n",
              "      <td>0</td>\n",
              "      <td>1</td>\n",
              "      <td>178</td>\n",
              "      <td>0</td>\n",
              "      <td>0.8</td>\n",
              "      <td>2</td>\n",
              "      <td>0</td>\n",
              "      <td>2</td>\n",
              "      <td>1</td>\n",
              "    </tr>\n",
              "    <tr>\n",
              "      <th>4</th>\n",
              "      <td>57</td>\n",
              "      <td>0</td>\n",
              "      <td>0</td>\n",
              "      <td>120</td>\n",
              "      <td>354</td>\n",
              "      <td>0</td>\n",
              "      <td>1</td>\n",
              "      <td>163</td>\n",
              "      <td>1</td>\n",
              "      <td>0.6</td>\n",
              "      <td>2</td>\n",
              "      <td>0</td>\n",
              "      <td>2</td>\n",
              "      <td>1</td>\n",
              "    </tr>\n",
              "  </tbody>\n",
              "</table>\n",
              "</div>"
            ],
            "text/plain": [
              "   age  sex  cp  trestbps  chol  fbs  ...  exang  oldpeak  slope  ca  thal  target\n",
              "0   63    1   3       145   233    1  ...      0      2.3      0   0     1       1\n",
              "1   37    1   2       130   250    0  ...      0      3.5      0   0     2       1\n",
              "2   41    0   1       130   204    0  ...      0      1.4      2   0     2       1\n",
              "3   56    1   1       120   236    0  ...      0      0.8      2   0     2       1\n",
              "4   57    0   0       120   354    0  ...      1      0.6      2   0     2       1\n",
              "\n",
              "[5 rows x 14 columns]"
            ]
          },
          "metadata": {
            "tags": []
          },
          "execution_count": 7
        }
      ]
    },
    {
      "cell_type": "code",
      "metadata": {
        "colab": {
          "base_uri": "https://localhost:8080/"
        },
        "id": "-cw3k0LqSn4y",
        "outputId": "aab38763-5f81-43ac-b18a-6921eb592f3e"
      },
      "source": [
        "print(\"Data shape:\",dataset.shape)"
      ],
      "execution_count": 8,
      "outputs": [
        {
          "output_type": "stream",
          "text": [
            "Data shape: (303, 14)\n"
          ],
          "name": "stdout"
        }
      ]
    },
    {
      "cell_type": "code",
      "metadata": {
        "colab": {
          "base_uri": "https://localhost:8080/"
        },
        "id": "JTQf0b7YSr0K",
        "outputId": "cfa58fef-ec28-4262-d32e-319ebc7cec7e"
      },
      "source": [
        "# iterating the columns \n",
        "for col in dataset.columns: \n",
        "    print(col)"
      ],
      "execution_count": 9,
      "outputs": [
        {
          "output_type": "stream",
          "text": [
            "age\n",
            "sex\n",
            "cp\n",
            "trestbps\n",
            "chol\n",
            "fbs\n",
            "restecg\n",
            "thalach\n",
            "exang\n",
            "oldpeak\n",
            "slope\n",
            "ca\n",
            "thal\n",
            "target\n"
          ],
          "name": "stdout"
        }
      ]
    },
    {
      "cell_type": "markdown",
      "metadata": {
        "id": "aTdSLggNSyUD"
      },
      "source": [
        "# Create X and Y variables"
      ]
    },
    {
      "cell_type": "code",
      "metadata": {
        "colab": {
          "base_uri": "https://localhost:8080/"
        },
        "id": "xxyNEiYySz_Z",
        "outputId": "a68a276d-c966-400e-d63a-3bd2ecb01179"
      },
      "source": [
        "X = dataset.iloc[:, 0:13].values\n",
        "x = dataset.iloc[:, 0:13]\n",
        "y = dataset.iloc[:, 13].values\n",
        "y_name = dataset.iloc[:, 13:14]\n",
        "print(\"X shape:\",X.shape)\n",
        "print(\"y shape:\",y_name.shape)"
      ],
      "execution_count": 10,
      "outputs": [
        {
          "output_type": "stream",
          "text": [
            "X shape: (303, 13)\n",
            "y shape: (303, 1)\n"
          ],
          "name": "stdout"
        }
      ]
    },
    {
      "cell_type": "code",
      "metadata": {
        "colab": {
          "base_uri": "https://localhost:8080/"
        },
        "id": "RxjTRd8pS2Jp",
        "outputId": "628b570d-a357-403f-929e-ebed6d6736ee"
      },
      "source": [
        "# iterating the columns \n",
        "print(\"Attributes:\\n\")\n",
        "for col in x.columns: \n",
        "    print(col)\n",
        "\n",
        "print(\"\\n\")\n",
        "print(\"Class:\")\n",
        "for col in y_name.columns: \n",
        "    print(col)"
      ],
      "execution_count": 11,
      "outputs": [
        {
          "output_type": "stream",
          "text": [
            "Attributes:\n",
            "\n",
            "age\n",
            "sex\n",
            "cp\n",
            "trestbps\n",
            "chol\n",
            "fbs\n",
            "restecg\n",
            "thalach\n",
            "exang\n",
            "oldpeak\n",
            "slope\n",
            "ca\n",
            "thal\n",
            "\n",
            "\n",
            "Class:\n",
            "target\n"
          ],
          "name": "stdout"
        }
      ]
    },
    {
      "cell_type": "markdown",
      "metadata": {
        "id": "4Ki1oKGlS9Dj"
      },
      "source": [
        "# Feature Scaling"
      ]
    },
    {
      "cell_type": "code",
      "metadata": {
        "id": "C2tviZHnS_E5"
      },
      "source": [
        "from sklearn.preprocessing import StandardScaler\n",
        "sc = StandardScaler()\n",
        "X = sc.fit_transform(X)"
      ],
      "execution_count": 12,
      "outputs": []
    },
    {
      "cell_type": "markdown",
      "metadata": {
        "id": "wX_6NiVbT_I9"
      },
      "source": [
        "# Cross Validation"
      ]
    },
    {
      "cell_type": "markdown",
      "metadata": {
        "id": "sEKghKJOUEZq"
      },
      "source": [
        "# K Fold Cross Validation"
      ]
    },
    {
      "cell_type": "code",
      "metadata": {
        "id": "A95fBbGbUIap"
      },
      "source": [
        "from sklearn.model_selection import cross_val_score\n",
        "from sklearn.metrics import accuracy_score, precision_score, recall_score, f1_score"
      ],
      "execution_count": 13,
      "outputs": []
    },
    {
      "cell_type": "markdown",
      "metadata": {
        "id": "aFURp4_uWC5E"
      },
      "source": [
        "# Logistic Regression"
      ]
    },
    {
      "cell_type": "code",
      "metadata": {
        "id": "RwNh8JsZWGff"
      },
      "source": [
        "from sklearn.linear_model import LogisticRegression\n",
        "classifier_lg = LogisticRegression(random_state = 0)"
      ],
      "execution_count": 14,
      "outputs": []
    },
    {
      "cell_type": "code",
      "metadata": {
        "id": "fWdRgEowWRp_",
        "colab": {
          "base_uri": "https://localhost:8080/"
        },
        "outputId": "c06593c2-4d73-4ae6-c297-f98812e7848f"
      },
      "source": [
        "# ACCURACY \n",
        "accuracy  = cross_val_score(classifier_lg, X,y, cv =10)\n",
        "print(accuracy)"
      ],
      "execution_count": 15,
      "outputs": [
        {
          "output_type": "stream",
          "text": [
            "[0.87096774 0.80645161 0.83870968 0.9        0.83333333 0.76666667\n",
            " 0.86666667 0.83333333 0.7        0.7       ]\n"
          ],
          "name": "stdout"
        }
      ]
    },
    {
      "cell_type": "code",
      "metadata": {
        "colab": {
          "base_uri": "https://localhost:8080/"
        },
        "id": "vEZGB5E7Yge8",
        "outputId": "ee0d7a3b-081b-4862-bd37-30406186aa16"
      },
      "source": [
        "print(accuracy.mean())"
      ],
      "execution_count": 16,
      "outputs": [
        {
          "output_type": "stream",
          "text": [
            "0.8116129032258066\n"
          ],
          "name": "stdout"
        }
      ]
    },
    {
      "cell_type": "code",
      "metadata": {
        "colab": {
          "base_uri": "https://localhost:8080/"
        },
        "id": "DvJHMCCSaAiU",
        "outputId": "0497263f-593f-406f-fd45-b0fe9f8b36fe"
      },
      "source": [
        " # Precision \n",
        "from sklearn import metrics\n",
        "pre = cross_val_score(classifier_lg, X, y, cv=10, scoring='precision_macro')\n",
        "print(pre)"
      ],
      "execution_count": 17,
      "outputs": [
        {
          "output_type": "stream",
          "text": [
            "[0.9047619  0.81140351 0.83974359 0.89732143 0.83333333 0.79665072\n",
            " 0.875      0.8492823  0.72222222 0.69909502]\n"
          ],
          "name": "stdout"
        }
      ]
    },
    {
      "cell_type": "code",
      "metadata": {
        "colab": {
          "base_uri": "https://localhost:8080/"
        },
        "id": "d0JK0vbeaImk",
        "outputId": "54a3e6c1-cd1d-4c7d-88c1-8e089fb304bb"
      },
      "source": [
        "print(pre.mean())"
      ],
      "execution_count": 18,
      "outputs": [
        {
          "output_type": "stream",
          "text": [
            "0.822881402438291\n"
          ],
          "name": "stdout"
        }
      ]
    },
    {
      "cell_type": "code",
      "metadata": {
        "id": "Mbez63IFXmD-",
        "colab": {
          "base_uri": "https://localhost:8080/"
        },
        "outputId": "4be060be-ff7a-439b-b48c-8d2139caae20"
      },
      "source": [
        "# Recall\n",
        "from sklearn import metrics\n",
        "rec = cross_val_score(classifier_lg, X, y, cv=10, scoring='recall_macro')\n",
        "print(rec)"
      ],
      "execution_count": 19,
      "outputs": [
        {
          "output_type": "stream",
          "text": [
            "[0.85714286 0.79831933 0.83403361 0.90271493 0.82579186 0.77678571\n",
            " 0.86160714 0.82589286 0.6875     0.69642857]\n"
          ],
          "name": "stdout"
        }
      ]
    },
    {
      "cell_type": "code",
      "metadata": {
        "colab": {
          "base_uri": "https://localhost:8080/"
        },
        "id": "a0lFFGGTZ9-m",
        "outputId": "066a989e-bf5f-49e9-ff8b-b180179ee1a7"
      },
      "source": [
        "print(rec.mean())"
      ],
      "execution_count": 20,
      "outputs": [
        {
          "output_type": "stream",
          "text": [
            "0.8066216871363932\n"
          ],
          "name": "stdout"
        }
      ]
    },
    {
      "cell_type": "code",
      "metadata": {
        "id": "Yox0ZTmLaN0s",
        "colab": {
          "base_uri": "https://localhost:8080/"
        },
        "outputId": "db9d041c-52a4-4bef-a21e-38efb151e425"
      },
      "source": [
        "# F1 score \n",
        "from sklearn import metrics\n",
        "f1 = cross_val_score(classifier_lg, X, y, cv=10, scoring='f1_macro')\n",
        "print(f1)"
      ],
      "execution_count": 21,
      "outputs": [
        {
          "output_type": "stream",
          "text": [
            "[0.86403509 0.80128205 0.83597884 0.8989899  0.82857143 0.76430976\n",
            " 0.86425339 0.82857143 0.6827262  0.6969697 ]\n"
          ],
          "name": "stdout"
        }
      ]
    },
    {
      "cell_type": "code",
      "metadata": {
        "colab": {
          "base_uri": "https://localhost:8080/"
        },
        "id": "IGqupUD6aVQD",
        "outputId": "945285f0-1c55-411f-ab5e-4f2a14f851a7"
      },
      "source": [
        "print(f1.mean())"
      ],
      "execution_count": 22,
      "outputs": [
        {
          "output_type": "stream",
          "text": [
            "0.8065687790522895\n"
          ],
          "name": "stdout"
        }
      ]
    },
    {
      "cell_type": "code",
      "metadata": {
        "id": "TXGDuCp0aW3r"
      },
      "source": [
        ""
      ],
      "execution_count": 22,
      "outputs": []
    },
    {
      "cell_type": "markdown",
      "metadata": {
        "id": "zAHfgrO_ckoc"
      },
      "source": [
        "# Stratified K Fold Cross validation"
      ]
    },
    {
      "cell_type": "code",
      "metadata": {
        "id": "-rqlilE5dEoZ"
      },
      "source": [
        "# Import Library\n",
        "from sklearn.model_selection import StratifiedKFold"
      ],
      "execution_count": 23,
      "outputs": []
    },
    {
      "cell_type": "code",
      "metadata": {
        "colab": {
          "base_uri": "https://localhost:8080/"
        },
        "id": "UjQt11fuckBr",
        "outputId": "4f61d24a-54d5-491b-cac3-b14121300774"
      },
      "source": [
        "# Print the X and Y Shape\n",
        "X.shape, y.shape"
      ],
      "execution_count": 24,
      "outputs": [
        {
          "output_type": "execute_result",
          "data": {
            "text/plain": [
              "((303, 13), (303,))"
            ]
          },
          "metadata": {
            "tags": []
          },
          "execution_count": 24
        }
      ]
    },
    {
      "cell_type": "code",
      "metadata": {
        "id": "-9BUUwfhdx1f"
      },
      "source": [
        ""
      ],
      "execution_count": 24,
      "outputs": []
    },
    {
      "cell_type": "code",
      "metadata": {
        "id": "NS87whQGcuhU"
      },
      "source": [
        "# Define K-fold \n",
        "skf = StratifiedKFold(n_splits=10,random_state=0, shuffle=False)"
      ],
      "execution_count": 25,
      "outputs": []
    },
    {
      "cell_type": "code",
      "metadata": {
        "colab": {
          "base_uri": "https://localhost:8080/"
        },
        "id": "xuVoY-kxczWC",
        "outputId": "97b01e78-d5aa-471d-88c1-11f4404583dd"
      },
      "source": [
        " skf.get_n_splits(X, y)"
      ],
      "execution_count": 26,
      "outputs": [
        {
          "output_type": "execute_result",
          "data": {
            "text/plain": [
              "10"
            ]
          },
          "metadata": {
            "tags": []
          },
          "execution_count": 26
        }
      ]
    },
    {
      "cell_type": "code",
      "metadata": {
        "colab": {
          "base_uri": "https://localhost:8080/"
        },
        "id": "RjSHc31kdk6R",
        "outputId": "6c98b611-62f0-40a5-82aa-6d8539899a89"
      },
      "source": [
        "print(skf)"
      ],
      "execution_count": 27,
      "outputs": [
        {
          "output_type": "stream",
          "text": [
            "StratifiedKFold(n_splits=10, random_state=0, shuffle=False)\n"
          ],
          "name": "stdout"
        }
      ]
    },
    {
      "cell_type": "code",
      "metadata": {
        "id": "sSEIOHHYdoEp"
      },
      "source": [
        "# Model Performane \n",
        "from sklearn.metrics import accuracy_score, precision_score, recall_score, f1_score\n",
        "\n",
        "accuracy   = []\n",
        "precision  = []\n",
        "recall     = []\n",
        "f1_value   = []\n",
        "\n",
        "for train_index, test_index in skf.split(X, y):\n",
        "  #print(\"TRAIN:\", train_index, \"TEST:\", test_index)\n",
        "  X_train, X_test = X[train_index], X[test_index]\n",
        "  y_train, y_test = y[train_index], y[test_index]\n",
        "\n",
        "  classifier_lg.fit(X_train,y_train)\n",
        "  y_pred = classifier_lg.predict(X_test)\n",
        "\n",
        "  ac = accuracy_score(y_test,y_pred)\n",
        "  pre = precision_score(y_test,y_pred)\n",
        "  rec = recall_score(y_test,y_pred)\n",
        "  f1  = f1_score(y_test, y_pred)\n",
        "\n",
        "\n",
        "\n",
        "  accuracy.append(ac)\n",
        "  precision.append(pre)\n",
        "  recall.append(rec)\n",
        "  f1_value.append(f1)\n"
      ],
      "execution_count": 28,
      "outputs": []
    },
    {
      "cell_type": "code",
      "metadata": {
        "colab": {
          "base_uri": "https://localhost:8080/"
        },
        "id": "DdQg74i9d5zI",
        "outputId": "5fe30e8a-98ac-49e8-bad6-eae45a6c2bca"
      },
      "source": [
        "print(accuracy)"
      ],
      "execution_count": 29,
      "outputs": [
        {
          "output_type": "stream",
          "text": [
            "[0.8709677419354839, 0.8064516129032258, 0.8387096774193549, 0.9, 0.8333333333333334, 0.7666666666666667, 0.8666666666666667, 0.8333333333333334, 0.7, 0.7]\n"
          ],
          "name": "stdout"
        }
      ]
    },
    {
      "cell_type": "code",
      "metadata": {
        "colab": {
          "base_uri": "https://localhost:8080/"
        },
        "id": "rg-1XHQlgCE6",
        "outputId": "6c10b5f1-417b-401f-b565-be11a85a5725"
      },
      "source": [
        "print(precision)"
      ],
      "execution_count": 30,
      "outputs": [
        {
          "output_type": "stream",
          "text": [
            "[0.8095238095238095, 0.7894736842105263, 0.8333333333333334, 0.9375, 0.8333333333333334, 0.9090909090909091, 0.8333333333333334, 0.7894736842105263, 0.6666666666666666, 0.7058823529411765]\n"
          ],
          "name": "stdout"
        }
      ]
    },
    {
      "cell_type": "code",
      "metadata": {
        "colab": {
          "base_uri": "https://localhost:8080/"
        },
        "id": "VmAolPnth1Xp",
        "outputId": "ec58e654-9a05-4562-99a5-8b0eef32a872"
      },
      "source": [
        "print(recall)"
      ],
      "execution_count": 31,
      "outputs": [
        {
          "output_type": "stream",
          "text": [
            "[1.0, 0.8823529411764706, 0.8823529411764706, 0.8823529411764706, 0.8823529411764706, 0.625, 0.9375, 0.9375, 0.875, 0.75]\n"
          ],
          "name": "stdout"
        }
      ]
    },
    {
      "cell_type": "code",
      "metadata": {
        "colab": {
          "base_uri": "https://localhost:8080/"
        },
        "id": "GIIRq22miv5f",
        "outputId": "97617b12-d3c5-47a9-a4d5-2d52ed9de853"
      },
      "source": [
        "print(f1_value)"
      ],
      "execution_count": 32,
      "outputs": [
        {
          "output_type": "stream",
          "text": [
            "[0.8947368421052632, 0.8333333333333333, 0.8571428571428571, 0.9090909090909091, 0.8571428571428571, 0.7407407407407406, 0.8823529411764706, 0.8571428571428572, 0.7567567567567567, 0.7272727272727272]\n"
          ],
          "name": "stdout"
        }
      ]
    },
    {
      "cell_type": "code",
      "metadata": {
        "id": "GQnRjbFaq_J1"
      },
      "source": [
        "# import necessary packages\n",
        "import matplotlib.pylab as plt\n",
        "from scipy import interp\n",
        "from sklearn.ensemble import RandomForestClassifier\n",
        "from sklearn.metrics import roc_curve,auc\n",
        "from sklearn.model_selection import StratifiedKFold\n",
        "import matplotlib.patches as patches\n",
        "import numpy as np # linear algebra\n",
        "import pandas as pd\n",
        "import seaborn as sn"
      ],
      "execution_count": 33,
      "outputs": []
    },
    {
      "cell_type": "code",
      "metadata": {
        "colab": {
          "base_uri": "https://localhost:8080/",
          "height": 663
        },
        "id": "i651VC65iyWM",
        "outputId": "b0f4d6a7-423a-4944-dbfe-9b37deb9ade4"
      },
      "source": [
        "import seaborn as sn\n",
        "random_state = np.random.RandomState(0)\n",
        "from sklearn.linear_model import LogisticRegression\n",
        "clf = LogisticRegression(random_state = 0)\n",
        "cv = StratifiedKFold(n_splits=10,shuffle=False)\n",
        "\n",
        "\n",
        "\n",
        "tprs = []\n",
        "aucs = []\n",
        "mean_fpr = np.linspace(0,1,100)\n",
        "\n",
        "\n",
        "plt.figure(figsize=(3,2), dpi=300)\n",
        "sn.set(font_scale=.4)\n",
        "i = 1\n",
        "for train,test in cv.split(X,y):\n",
        "    prediction =classifier_lg.fit(X[train],y[train]).predict_proba(X[test])\n",
        "    fpr, tpr, t = roc_curve(y[test], prediction[:, 1])\n",
        "    tprs.append(interp(mean_fpr, fpr, tpr))\n",
        "    roc_auc = auc(fpr, tpr)\n",
        "    aucs.append(roc_auc)\n",
        "    plt.plot(fpr, tpr, lw=.5, alpha=0.3, label='ROC fold %d (AUC = %0.4f)' % (i, roc_auc))\n",
        "    i= i+1\n",
        "\n",
        "plt.plot([0,1],[0,1],linestyle = '--',lw = .7,color = 'black')\n",
        "sn.set_style(\"darkgrid\")\n",
        "mean_tpr = np.mean(tprs, axis=0)\n",
        "mean_auc = auc(mean_fpr, mean_tpr)\n",
        "plt.plot(mean_fpr, mean_tpr, color='blue',\n",
        "         label='Mean ROC (AUC = %0.4f )' % (mean_auc),lw=.7, alpha=1)\n",
        "\n",
        "plt.xlabel('False Positive Rate')\n",
        "plt.ylabel('True Positive Rate')\n",
        "plt.title('ROC Curve (Logistic)')\n",
        "plt.legend(loc=\"lower right\")\n",
        "plt.grid(True)\n",
        "plt.show()\n"
      ],
      "execution_count": 37,
      "outputs": [
        {
          "output_type": "display_data",
          "data": {
            "image/png": "[encoded data removed]",
            "text/plain": [
              "<Figure size 900x600 with 1 Axes>"
            ]
          },
          "metadata": {
            "tags": []
          }
        }
      ]
    },
    {
      "cell_type": "code",
      "metadata": {
        "id": "Pu3vak3are4K"
      },
      "source": [
        ""
      ],
      "execution_count": null,
      "outputs": []
    }
  ]
}